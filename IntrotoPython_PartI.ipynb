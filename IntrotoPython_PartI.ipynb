{
 "cells": [
  {
   "cell_type": "markdown",
   "id": "07f60c9f",
   "metadata": {},
   "source": [
    "# Physics Scholars Program \n",
    "## Coding Session 1 - Oct 26th, 2023\n",
    "\n",
    "Coding is an important part of being a 21st century STEM professional, and can be a great asset to have in applying for research. There’s a lot of stigma around CS, and often students assume that learning to code will be overwhelming and inaccessible. This is not true! Today we will be going over a very gentle introduction to Python, a popular programming language that was designed to be both easily readable and intuitive.\n",
    "\n",
    "### Downloading Python\n",
    "The first thing we need to do is download Python. This can be done a few different ways, but the simplest is through Anaconda. Using this link, https://www.anaconda.com/products/individual, select your machine and operating system. Download Anaconda and go through the setup/installation wizard. After completing these steps, you should be able to use the Anaconda Navigator to open a jupyter notebook. Jupyter is a “web-based, interactive computing environment” and is a great place to learn to code. You can organize your code into cells and run each cell by pressing ```Shift + Enter```.\n",
    "\n",
    "To get started, we also need a quick definition: \n",
    "\n",
    "> **Syntax** in coding is the set of rules imposed by the programming language that make the computer understand the code you've written (in an analogous way to what punctuation is to day-to-day     language). As implied these vary based on the language that you are using: a semicolon suppresses output in MATLAB, while it is required to end lines of code in Java or C++. Learning a programming language means learning its syntax.\n",
    "\n",
    "Python is so widespread as a language because its syntax is very easy to read and learn (as you will see!).\n",
    "\n",
    "### Data Types and Variable Assignments\n",
    "\n",
    "Soon you will start programming notice that most of it deals with variables that store information, usually as a type of **data** such as numbers, a word, or truth values. These different types of data are called **data types** and have individual names:\n",
    "\n",
    "&nbsp;&nbsp;&nbsp;&nbsp; ``int``: this is an integer number, ex: 5, 7, -238\n",
    "\n",
    "&nbsp;&nbsp;&nbsp;&nbsp; ``float``: this is a decimal number, ex: 12.3, -98.07\n",
    "\n",
    "&nbsp;&nbsp;&nbsp;&nbsp; ``boolean``: this is a truth value and can either be assigned \"True\" or \"False\"\n",
    "\n",
    "&nbsp;&nbsp;&nbsp;&nbsp; ``str``: this is a \"string\" of characters and is stored in quotations, ex: \"I love physics\"\n",
    "\n",
    "Now that we know about data types, we can try creating a variable and giving it something to store. To assign a variable a data type in Python, simply write a variable name and the value you'd like it to store separated by an equal sign:\n",
    "\n",
    "## Variable Declaration"
   ]
  },
  {
   "cell_type": "code",
   "execution_count": 1,
   "id": "30a42dbd",
   "metadata": {},
   "outputs": [],
   "source": [
    "x = 5                   #int \n",
    "y = \"PSP is the best!\"  #str\n",
    "favorite_number = 3.14  #float"
   ]
  },
  {
   "cell_type": "markdown",
   "id": "bfaabaab",
   "metadata": {},
   "source": [
    "Here ``#`` starts a **comment** in your code - like the name implies a comment is something that Python ignores when processing the code. Comments are used to leave notes and make the code more readable.\n",
    "\n",
    "## Variable Operations\n",
    "\n",
    "Python variables behave exactly the same as those you might see in your physics class: you can add them,\n",
    "subtract, multiply, and divide. You can also raise a variable to a power using ``**``, do floor division with ``//``, and get a remainder with the modulus operator ``%``. Python adheres to PEMDAS so it’s all very intuitive.\n",
    "\n",
    "The only thing to keep in mind when performing these operations is that some types do not mix. For example, if we try to add together a string and an integer, we’ll get:"
   ]
  },
  {
   "cell_type": "code",
   "execution_count": 16,
   "id": "391b0f2d",
   "metadata": {},
   "outputs": [
    {
     "ename": "TypeError",
     "evalue": "unsupported operand type(s) for +: 'int' and 'str'",
     "output_type": "error",
     "traceback": [
      "\u001b[0;31m---------------------------------------------------------------------------\u001b[0m",
      "\u001b[0;31mTypeError\u001b[0m                                 Traceback (most recent call last)",
      "Input \u001b[0;32mIn [16]\u001b[0m, in \u001b[0;36m<cell line: 1>\u001b[0;34m()\u001b[0m\n\u001b[0;32m----> 1\u001b[0m \u001b[38;5;28mprint\u001b[39m(\u001b[43mx\u001b[49m\u001b[38;5;241;43m+\u001b[39;49m\u001b[43my\u001b[49m)\n",
      "\u001b[0;31mTypeError\u001b[0m: unsupported operand type(s) for +: 'int' and 'str'"
     ]
    }
   ],
   "source": [
    "print(x+y)"
   ]
  },
  {
   "cell_type": "markdown",
   "id": "b265e799",
   "metadata": {},
   "source": [
    "Revisiting the final data-type we have not used yet, let's check if the ``x`` that we defined earlier is even or odd. In Python, when we are checking whether something is equal to something else or not, we write ``==``. To check something does not equal, we write ``!=``."
   ]
  },
  {
   "cell_type": "code",
   "execution_count": 9,
   "id": "f309b062",
   "metadata": {},
   "outputs": [
    {
     "name": "stdout",
     "output_type": "stream",
     "text": [
      "True/Fale - Is x even? False\n"
     ]
    }
   ],
   "source": [
    "# boolean\n",
    "even = x % 2 == 0\n",
    "print(\"True/Fale - Is x even? \" + str(even))"
   ]
  },
  {
   "cell_type": "markdown",
   "id": "a83d06f8",
   "metadata": {},
   "source": [
    "Here, we used a part of Python called casting that allows us to switch between data types. We can convert an\n",
    "integer to a string using the built-in function ``str()``. You could also convert to an integer with ``int()``, and float with ``float()``. The process of adding strings is called concatenation.\n",
    "\n",
    "Now that we know this, let's try some more computations:\n",
    "\n",
    "### Find the distance between vectors [1,4] and [3,6]:"
   ]
  },
  {
   "cell_type": "code",
   "execution_count": 11,
   "id": "7532dfae",
   "metadata": {},
   "outputs": [
    {
     "name": "stdout",
     "output_type": "stream",
     "text": [
      "The distance between these two vectors is 2.8284271247461903\n"
     ]
    }
   ],
   "source": [
    "# Define x & y positions of both vectors\n",
    "x1 = 1\n",
    "y1 = 4\n",
    "x2 = 3\n",
    "y2 = 6\n",
    "\n",
    "deltax = x2-x1    #Difference in the x positions\n",
    "deltay = y2-y1    #Difference in the y positions\n",
    "\n",
    "distance = (deltax**2+deltay**2)**(1/2) # Taking the sum of squares\n",
    "\n",
    "print(\"The distance between these two vectors is \" + str(distance))"
   ]
  },
  {
   "cell_type": "markdown",
   "id": "aba675d0",
   "metadata": {},
   "source": [
    "### Find the volume of a sphere: $\\frac{4}{3}\\pi r^3$ with a radius of 2 meters:"
   ]
  },
  {
   "cell_type": "code",
   "execution_count": 13,
   "id": "bd505f63",
   "metadata": {},
   "outputs": [
    {
     "name": "stdout",
     "output_type": "stream",
     "text": [
      "The volume of a sphere wiht R=2 is 33.520992 meters^3\n"
     ]
    }
   ],
   "source": [
    "pi = 3.142593\n",
    "radius = 2.0     # in meters\n",
    "volume = (4/3)*pi*radius**3\n",
    "\n",
    "print(\"The volume of a sphere with R=2 is \" + str(volume) + \" meters^3\")"
   ]
  },
  {
   "cell_type": "markdown",
   "id": "78f36e78",
   "metadata": {},
   "source": [
    "Another way that we can control the order of statements in our code is by defining functions in\n",
    "Python. Like everything so far, it does exactly what you think it does: a function in Python takes a set of values, does some operations on those values, and then returns a result.\n",
    "\n",
    "\n",
    "## Defining Functions"
   ]
  },
  {
   "cell_type": "code",
   "execution_count": 15,
   "id": "825dd5e5",
   "metadata": {
    "scrolled": true
   },
   "outputs": [
    {
     "name": "stdout",
     "output_type": "stream",
     "text": [
      "The volume of a sphere with R=2 is 33.520992 meters^3\n"
     ]
    }
   ],
   "source": [
    "def volumeofsphere(radius):\n",
    "    pi = 3.142593\n",
    "    return (4/3)*pi*radius**3\n",
    "\n",
    "volume = volumeofsphere(2)\n",
    "\n",
    "print(\"The volume of a sphere with R=2 is \" + str(volume) + \" meters^3\")"
   ]
  },
  {
   "cell_type": "markdown",
   "id": "2222f639",
   "metadata": {},
   "source": [
    "Here we defined a function called ``volumeofsphere()`` which takes in a single argument, ``radius``. The function then does some operations on the radius, after which we tell it to return the value of the result to the place where the function was called. Later in this script, we call this function, and the variable, ``volume``, ends up picking up the returned value of result, which is then printed out. These functions in Python are nothing fancy - as you can see they are analogous to $y=f(x)$ from your math class.\n",
    "\n",
    "Let's put everything we've learned so far and do some actual physics!\n",
    "\n",
    "## Exercise 1:\n",
    "\n",
    "You want to launch a satellite into a circular orbit around Earth and develop a program tracks the satellite's position and alerts you when it is flying overhead. In order to determine the details of the launch, you need to calculate the altitude ($h$) of the satellite’s orbit for a desired orbital period ($T$). The altitude ($h$) above Earth’s surface for a satellite undergoing a circular orbit with period ($T$) is given by:\n",
    "\n",
    "### $h=(\\frac{GMT^2}{4\\pi^2})^{1/3}-R$ \n",
    "\n",
    "with $G = 6.67\\times10^{-11} \\frac{m^2}{kg\\cdot s^2}$ (gravitational constant), $M = 5.97\\times10^{24}$ kg (mass of the Earth), $R = 6.371\\times10^{6}$ m (radius of the Earth).\n",
    "\n",
    "<img src=\"https://img.freepik.com/premium-vector/global-communication-technology-satellites-flying-orbital-spaceflight-around-earth-spacecraft-space-stations-with-solar-panels-satellite-antenna-plate-thin-line-3d-vector-illustration_570429-5053.jpg?w=1060\"  width=\"20%\" height=\"20%\">\n",
    "\n",
    "### (a) Write a function called ```calc_orbitalheight()``` that calculates the correct altitude in meters given some value T in hours:"
   ]
  },
  {
   "cell_type": "code",
   "execution_count": 18,
   "id": "41c06c9d",
   "metadata": {},
   "outputs": [
    {
     "name": "stdout",
     "output_type": "stream",
     "text": [
      "Period of satellite = 2 hours | Altitude of satellite = 1683581.1797001231 meters\n"
     ]
    }
   ],
   "source": [
    "def calc_orbitalheight(T_hours):\n",
    "    \n",
    "    # Define constant\n",
    "    pi = 3.142593\n",
    "    G = 6.67e-11 # Gravitational constant in SI units\n",
    "    M = 5.97e24  # Mass of the Erth in kg\n",
    "    R = 6.371e6 # Radius of the earth\n",
    "    \n",
    "    T_secs = 3600*T_hours   # Converts the t to secs\n",
    "    \n",
    "    h = ((G*M*T_secs**2)/(4*pi**2))**(1/3) - R  \n",
    "    \n",
    "    print(\"Period of satellite = \"+ str(T_hours)+ \" hours | Altitude of satellite = \" + str(h) + \" meters\")\n",
    "    \n",
    "    \n",
    "calc_orbitalheight(2)"
   ]
  },
  {
   "cell_type": "markdown",
   "id": "53a54b3c",
   "metadata": {},
   "source": [
    "With this, we can now calulate the altitude of the satellite's orbit at any time given in hours!\n",
    "\n",
    "Let's pause for a second. So far, we’ve only used Python as a glorified calculator, yet the power of programming comes from the fact that we are able to control the order that statements in our code are interpreted by the computer. This warrants another definition: \n",
    "\n",
    "> **Control flow** is the order in which instructions of a program are executed by the computer \n",
    "\n",
    "How can we modify our program’s control flow? We can use of Python’s built-in structures, the conditional or if-then-else statement, and loops.\n",
    "\n",
    "Let's start with if-then-else statements using our satelite example.\n",
    "\n",
    "## If-then-else Statements\n",
    "\n",
    "### (b) Modify your program so that it gives an error message if T is too small\n",
    "\n",
    "An if-then-else statement is exactly like it sounds. First give python a condition to check, like whether the orbital altitude makes sense. In this case, it would only make sense if the altitude was positive (otherwise, the satellite would be located inside the earth). Use ``if {condition}:`` to check whether that condition is met, and if not, have Python print an error message. If it is met, try the next statement ``else:`` and print out the correct altitude. \n",
    "\n",
    "The ``else`` statement carries no condition, and is the default if the first condition is not met. Additional conditions can also be added by using an ``elif {condition}:``"
   ]
  },
  {
   "cell_type": "code",
   "execution_count": 21,
   "id": "fa3d94e2",
   "metadata": {},
   "outputs": [
    {
     "name": "stdout",
     "output_type": "stream",
     "text": [
      "Period of satellite = 200 hours | Altitude of satellite = 167159691.07223877 meters\n"
     ]
    }
   ],
   "source": [
    "def calc_orbitalheight(T_hours):\n",
    "    \n",
    "    # Define constant\n",
    "    pi = 3.142593\n",
    "    G = 6.67e-11 # Gravitational constant in SI units\n",
    "    M = 5.97e24  # Mass of the Erth in kg\n",
    "    R = 6.371e6 # Radius of the earth\n",
    "    \n",
    "    T_secs = 3600*T_hours   # Converts the t to secs\n",
    "    \n",
    "    h = ((G*M*T_secs**2)/(4*pi**2))**(1/3) - R  \n",
    "    \n",
    "    if h<0:\n",
    "        print(\"T is too small!\")\n",
    "    \n",
    "    else:\n",
    "        print(\"Period of satellite = \"+ str(T_hours)+ \" hours | Altitude of satellite = \" + str(h) + \" meters\")\n",
    "    \n",
    "    \n",
    "calc_orbitalheight(200)"
   ]
  },
  {
   "cell_type": "markdown",
   "id": "6cfe7ea0",
   "metadata": {},
   "source": [
    "The way that Python keeps track of which statement falls under what condition is by indentation, meaning we know\n",
    "that the ```print``` statement is in the same block of code as ``if h<0:`` because it is indented four spaces to the left after our ``if`` statement. This is crucial for any statement controlling the order of your code: indentation controls which group of statements belong to a particular block of code! Pay attention to how the ``if``, ``elif``, and ``else`` statements altered which lines of code in our program get executed. In other words, they change our program’s control flow.\n",
    "\n",
    "Suppose instead of checking a condition once, we wanted to check a condition many times and tell the computer to do something every time that condition is satisfied. Here’s where we can use loops - lets start with the simplest type, called the ``while`` loop:\n",
    "\n",
    "## While/For Loops\n",
    "\n",
    "### (c) Modify your program so that it prints out the altitudes of orbits for periods of 1 hours to 12 hours in one hour intervals\n",
    "\n",
    "In many ways, the ```while``` loop is similar to an if-statement. First, define an initial variable and set it to the minimum condition. Then, use ```while {condition}:``` to check whether the maximum condition has been exceeded, and if it has not, execute the ```calc_orbitalheight()``` function and increase the value of the initial variable by 1 (the notation ``i+ = 1`` is used for $i = i + 1$). Continue this process until the maximum condition is satisfied."
   ]
  },
  {
   "cell_type": "code",
   "execution_count": null,
   "id": "1cf505b1",
   "metadata": {},
   "outputs": [],
   "source": []
  },
  {
   "cell_type": "markdown",
   "id": "8490edf6",
   "metadata": {},
   "source": [
    "``While`` loops are not all though! Another common type of loop is called the ``for`` loop. ```For``` loops are used when we know a sequence of values that we want to loop over. \n",
    "\n",
    "Let's try to mimic the previous result using a ```for``` loop. The following will be useful: ```Range()``` is a built-in function in Python that gives a sequence of numbers specified by a starting value, a stopping value, and a step size between values. To loop over a sequence of values, use ```for {variable} in range(start, stop, step size):```"
   ]
  },
  {
   "cell_type": "code",
   "execution_count": null,
   "id": "083fc7ef",
   "metadata": {},
   "outputs": [],
   "source": []
  },
  {
   "cell_type": "markdown",
   "id": "21699c02",
   "metadata": {},
   "source": [
    "So this gives the altitude of a satelite for 1-12 hours. As you can imagine, ```for``` loops are incredibly useful if you’d like to do operations on a large list of values.\n",
    "\n",
    "Let's practice if statements and loops with another example:\n",
    "\n",
    "# Exercise 2:\n",
    "\n",
    "Factorials are a neat mathematical object that represents the product of an integer and all the integers below it. For an integer $n$, where $n>0$, the factorial is defined as $n! = n\\times(n-1)\\times\\dots\\times 1$, with the caveat that 0! = 1. Factorials can be notoriously hard to deal with because they grow extremely fast, even faster than exponential functions! Let's write a script that lets us compute factorials using Python:\n",
    "\n",
    "### (a) Write a function called ```factorial()``` that takes in a number $n$ as a parameter. In that function write an if-statement that checks whether $n < 0$, and if so tell the function to return 0."
   ]
  },
  {
   "cell_type": "code",
   "execution_count": null,
   "id": "9a8f96a8",
   "metadata": {},
   "outputs": [],
   "source": []
  },
  {
   "cell_type": "markdown",
   "id": "786125fc",
   "metadata": {},
   "source": [
    "### (b) In your same factorial function, write an else if statement that checks whether $n = 0$ or not. If $n = 0$, tell the function to return 1."
   ]
  },
  {
   "cell_type": "code",
   "execution_count": null,
   "id": "5c79cc2b",
   "metadata": {},
   "outputs": [],
   "source": []
  },
  {
   "cell_type": "markdown",
   "id": "583a86cc",
   "metadata": {},
   "source": [
    "### (c) In the same function add an else statement which has a for loop that loops through all the numbers less than $n$, multiplies them together, and hence return the value of $n$ factorial. Call the function to compute 13! and check if you got it right!"
   ]
  },
  {
   "cell_type": "code",
   "execution_count": null,
   "id": "4ae046df",
   "metadata": {},
   "outputs": [],
   "source": []
  },
  {
   "cell_type": "markdown",
   "id": "aca853b1",
   "metadata": {},
   "source": [
    "Today, we’ve introduced how to define variables, operate on those variables, and control the order of our code. With this, we can start to tackle many interesting coding problems and, in the next session, also how we can apply programming to physics under the realm of data analysis."
   ]
  }
 ],
 "metadata": {
  "kernelspec": {
   "display_name": "Python 3 (ipykernel)",
   "language": "python",
   "name": "python3"
  },
  "language_info": {
   "codemirror_mode": {
    "name": "ipython",
    "version": 3
   },
   "file_extension": ".py",
   "mimetype": "text/x-python",
   "name": "python",
   "nbconvert_exporter": "python",
   "pygments_lexer": "ipython3",
   "version": "3.9.12"
  }
 },
 "nbformat": 4,
 "nbformat_minor": 5
}
