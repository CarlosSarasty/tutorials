{
 "cells": [
  {
   "cell_type": "markdown",
   "id": "fad4ddf1",
   "metadata": {},
   "source": [
    "# Physics Scholars Program \n",
    "## Coding Session II - Nov 2, 2023\n",
    "\n",
    "Last time, we talked about the basics of programming such as the different data types as well as how to alter the control flow of the program, i.e. the order in which the computer interprets the statements in the code. Today, we will expand on what we’ve learned by looking at two other data types called lists and arrays, and then introduce an ever-so important area of physics called data analysis, where we will look at how to use Python to plot/visualize data.\n",
    "\n",
    "### Lists and Arrays\n",
    "\n",
    "Lists are a curious data type since they are designed to be able to hold all other data types, and in general we can\n",
    "think of them as literally just a list of things. Lists in Python are enclosed by square brackets ```[ ]``` where each element is separated by a comma. The elements in a list could be all of different types, or even other lists! Below are some examples of lists:"
   ]
  },
  {
   "cell_type": "code",
   "execution_count": 1,
   "id": "dfc471c8",
   "metadata": {},
   "outputs": [],
   "source": [
    "groceries = [\"chicken\", \"apples\", \"lettuce\", \"chocolate\"]   # list of strings\n",
    "\n",
    "mixed = [\"Pupin\", 3.14, 10, True]  # we can mix types!\n",
    "\n",
    "nested = [[1,2], [3,4]]   # we can also fill a list with lists"
   ]
  },
  {
   "cell_type": "markdown",
   "id": "7d9b7a2d",
   "metadata": {},
   "source": [
    "Lists are a useful way to store information. For example, you could fill a list with data measuring the speed of a particle in time, or with the current going through an apparatus given a voltage. But of course for this to be useful, we need to be able to access the information in the list. We can do this by **indexing**, which is short for accessing an element in a list at a given location. **The first element in a list in most programming languages correspond to an index of $0$, while the last element to an index of $n − 1$ where $n$ is the length of the list**. We retrieve the object at an index, $i$, by writing the name of the list followed by ```[i]```, here’s an example:"
   ]
  },
  {
   "cell_type": "code",
   "execution_count": 2,
   "id": "6c021990",
   "metadata": {},
   "outputs": [
    {
     "name": "stdout",
     "output_type": "stream",
     "text": [
      "The first element of the list is Pupin.\n",
      "The last element of the list is True.\n"
     ]
    }
   ],
   "source": [
    "mixed = [\"Pupin\", 3.14, 10, True]\n",
    "first = mixed[0]\n",
    "last = mixed[3] # = mixed[-1] we can also use -1 for the last index\n",
    "\n",
    "print(\"The first element of the list is \"+first+'.')\n",
    "print(\"The last element of the list is \"+str(last)+'.')"
   ]
  },
  {
   "cell_type": "markdown",
   "id": "66f6de4d",
   "metadata": {},
   "source": [
    "We can also use indexing to select a range of elements by using a colon with syntax ```[start index : end index + 1 : step size]``` which is called **slicing** (where here the end value is not inclusive, so we need to add a +1 to the final index!)\n",
    "\n",
    "We can also find the sum or the length of the list using the ```sum()``` or ```len()``` functions."
   ]
  },
  {
   "cell_type": "code",
   "execution_count": 1,
   "id": "7c37211a",
   "metadata": {},
   "outputs": [
    {
     "name": "stdout",
     "output_type": "stream",
     "text": [
      "Average of [0, 2, 4, 6, 8, 10] = 5.0\n"
     ]
    }
   ],
   "source": [
    "nums = [0, 1, 2, 3, 4, 5, 6, 7, 8, 9, 10]\n",
    "evens = nums[0:12:2] # start at and keep 0, skip 1, keep 2, skip 3, so on...\n",
    "\n",
    "print(\"Average of\", evens, \"=\", sum(evens)/len(evens))  # print the average of all the entries"
   ]
  },
  {
   "cell_type": "markdown",
   "id": "4adf0076",
   "metadata": {},
   "source": [
    "Lists can also be modified by adding or subtracting lists, by adding elements with the function ```list.append()```, or removing elements at an index, $i$, with the function ```list.pop(i)```."
   ]
  },
  {
   "cell_type": "code",
   "execution_count": 4,
   "id": "09b65612",
   "metadata": {},
   "outputs": [
    {
     "name": "stdout",
     "output_type": "stream",
     "text": [
      "The combination of x and y is ['Pupin', 'is', 'great', 'but also', 'very old']\n",
      "Removing y, we get ['Pupin', 'is', 'great']\n"
     ]
    }
   ],
   "source": [
    "x = [\"Pupin\", \"is\"]\n",
    "x.append(\"great\")             # modify list x\n",
    "y = [\"but also\", \"very old\"]\n",
    "\n",
    "z = x+y                       # add list x to list y\n",
    "print(\"The combination of x and y is\", z)\n",
    "\n",
    "z.pop(-1)                     # remove last entries from z\n",
    "z.pop(-1)\n",
    "print(\"Removing y, we get\", z)"
   ]
  },
  {
   "cell_type": "markdown",
   "id": "917c93ad",
   "metadata": {},
   "source": [
    "A close cousin to lists is the **array**, with the difference being that arrays will store only a homogeneous data type (i.e. you can’t have an array with integers and strings) and because of this, they often require a lot less memory in your computer than lists and allow for fast operations (look up [vectorization](https://www.geeksforgeeks.org/vectorization-in-python/)). Arrays are also the fundamental build-up of one of the most important packages Python has to offer for physics, called **numpy** (short for numerical Python). To be able to access the features of numpy we need to import it to our code. Lets see how we can define an array using numpy:"
   ]
  },
  {
   "cell_type": "code",
   "execution_count": 5,
   "id": "f4a938c1",
   "metadata": {},
   "outputs": [
    {
     "name": "stdout",
     "output_type": "stream",
     "text": [
      "Printing the numpy array :  [ 0  1  2  3  4  5  6  7  8  9 10]\n",
      "Printing 2 * the numpy array :  [ 0  2  4  6  8 10 12 14 16 18 20]\n"
     ]
    }
   ],
   "source": [
    "import numpy as np              #imports library and gives an alias to numpy\n",
    "\n",
    "a = np.array(nums, dtype=int)   # can convert a list to a numpy array\n",
    "\n",
    "print(\"Printing the numpy array : \", a)\n",
    "\n",
    "print(\"Printing 2 * the numpy array : \", 2*a)   # multiply all the entries in a by 2"
   ]
  },
  {
   "cell_type": "markdown",
   "id": "393e8a24",
   "metadata": {},
   "source": [
    "In the last line, we multiplied the array by 2 using the usual syntax for multiplication in python. One advantage of using numpy arrays is that we can perform operations (like addition, subtraction, multiplication and division) on the entire array at once!\n",
    "\n",
    "\n",
    "Just like lists, we can access elements of a numpy array by indexing and append new values with ```np.append()```. We can ask for the shape or length of a numpy array by using ```np.shape()```. It returns an ordered pair of numbers corresponding to the dimensions of the array (in case we have a multidimensional array)."
   ]
  },
  {
   "cell_type": "code",
   "execution_count": 6,
   "id": "06c53b73",
   "metadata": {},
   "outputs": [
    {
     "name": "stdout",
     "output_type": "stream",
     "text": [
      "The length of a is 12\n",
      "The shape of b is 2 x 3\n"
     ]
    }
   ],
   "source": [
    "a = np.append(a, 11)                                      # modify 1D array\n",
    "b = np.array([[1, 2, 3], [4, 5, 6]])                      # define a 2D array\n",
    "\n",
    "print(\"The length of a is\", np.shape(a)[0])\n",
    "print(\"The shape of b is\", np.shape(b)[0], 'x', np.shape(b)[1])"
   ]
  },
  {
   "cell_type": "markdown",
   "id": "16f11833",
   "metadata": {},
   "source": [
    "Lists and arrays are very useful since we can loop through their elements with a ``for`` loop:"
   ]
  },
  {
   "cell_type": "code",
   "execution_count": 7,
   "id": "d6b0fbd2",
   "metadata": {},
   "outputs": [
    {
     "name": "stdout",
     "output_type": "stream",
     "text": [
      "I\n",
      "love\n",
      "cookies\n",
      "Found 2!\n"
     ]
    }
   ],
   "source": [
    "words = [\"I\", \"love\", \"cookies\"]\n",
    "for word in words:                        # loop through list entries\n",
    "    print(word)\n",
    "\n",
    "x = np.array([1, 2, 3, 4, 5], dtype=int)\n",
    "for num in x:                             # loop through array entries\n",
    "    if num == 2:\n",
    "        print(\"Found 2!\")"
   ]
  },
  {
   "cell_type": "markdown",
   "id": "55894e02",
   "metadata": {},
   "source": [
    "### Plotting and Matplotlib\n",
    "We can use lists and arrays to store data, but to do data analysis we need to be able to visualize it. This usually entails plotting the data as a graph or a histogram. To do this in Python we need another package, called matplotlib which we can import similarly to numpy. We can then plot a list or array of values:"
   ]
  },
  {
   "cell_type": "code",
   "execution_count": 8,
   "id": "f26c5da7",
   "metadata": {},
   "outputs": [
    {
     "data": {
      "image/png": "[encoded data removed]",
      "text/plain": [
       "<Figure size 432x288 with 1 Axes>"
      ]
     },
     "metadata": {
      "needs_background": "light"
     },
     "output_type": "display_data"
    }
   ],
   "source": [
    "import matplotlib.pyplot as plt\n",
    "\n",
    "# plotting sine\n",
    "\n",
    "x = np.linspace(0, 10, 1000)     # returns an array with 1000 evenly spaced numbers in the range [0,10]\n",
    "y = np.sin(x)\n",
    "\n",
    "plt.plot(x, y)\n",
    "plt.xlabel(\"x\")\n",
    "plt.ylabel(\"f(x)\")\n",
    "plt.title(\"Plot of sine\")\n",
    "plt.show()"
   ]
  },
  {
   "cell_type": "markdown",
   "id": "87c02032",
   "metadata": {},
   "source": [
    "In the above code we create an array with $x$ values evenly spaced between 0 and 10 and then use the numpy function\n",
    "```np.sin()``` to create an array with the corresponding $y$ values. We then can plot the sine function by passing to the ```plt.plot()```.\n",
    "\n",
    "Let's put what we've learned so far to the test and do some physics!"
   ]
  },
  {
   "cell_type": "markdown",
   "id": "7533c773",
   "metadata": {},
   "source": [
    "### Exercise 1: Nuclear binding energy\n",
    "\n",
    "Binding energy is the energy required to disassemble a system into its constituent parts. In nuclear physics, the semi-empirical mass formula is a formula for calculating the approximate nuclear binding energy $B$ of an atomic nucleus with atomic number $Z$ and mass number $A$. $Z$ is the number of protons in the nucleus and $A$ is the sum of protons and neutrons in the nucleus. Thus, $A-Z$ gives the number of neutrons. The binding energy $B$ of an atomic nucleus is given by :\n",
    "\n",
    "### $B = \\alpha_1A - \\alpha_2A^{2/3} - \\alpha_3\\frac{Z^2}{A^{1/3}} - \\alpha_4\\frac{(A-2Z)^2}{A} + \\frac{\\alpha_5}{A^{1/2}}$\n",
    "\n",
    "where, in units of millions of electron volts (MeV), the constants are $\\alpha_1$=15.8, $\\alpha_2$=18.3, $\\alpha_3$=0.714, $\\alpha_4$=23.2, and $\\alpha_5$  = { 0 if $A$ is odd, 12.0 if $A$ and $A$ are both even, or -12.0 if $A$ is even and $Z$ is odd }.\n",
    "\n",
    "<img src=\"https://media.geeksforgeeks.org/wp-content/uploads/20220128194331/BindingEnergy.PNG\"  width=\"40%\" height=\"40%\">\n",
    "\n",
    "#### (a) Write a function called ```energypernucleon()``` that takes a given value of $Z$ and $A$ and returns the binding energy per nucleon $\\frac{B}{A}$\n",
    "Hint: Use an if-then statement to assign a value to $\\alpha_5$. As a test, use your program to find the binding energy of an atom with $A$=58 and $Z$=28. (The correct answer is 8.7 MeV)"
   ]
  },
  {
   "cell_type": "code",
   "execution_count": 9,
   "id": "c01e2ea0",
   "metadata": {},
   "outputs": [
    {
     "name": "stdout",
     "output_type": "stream",
     "text": [
      "The energy per nucleon for a nucleus with A=58 and Z=26 is 8.701432576808985 MeV\n"
     ]
    }
   ],
   "source": [
    "# calculates binding energy of nucleus with atomic number Z and mass number A\n",
    "def energypernucleon(Z,A):\n",
    "    \n",
    "    # define constants in MeV\n",
    "    a1 = 15.8\n",
    "    a2 = 18.3\n",
    "    a3 = 0.714\n",
    "    a4 = 23.2\n",
    "    \n",
    "    # determine a5\n",
    "    if A % 2 != 0:\n",
    "        a5 = 0\n",
    "    elif  A % 2 == 0 and Z % 2 == 0:\n",
    "        a5 = 12.0\n",
    "    else:\n",
    "        a5 = -12.0\n",
    "    \n",
    "    B = a1*A - a2*A**(2/3) - a3*Z**2/A**(1/3) - a4*(A-2*Z)**2/A + a5/A**(1/2)\n",
    "    return B/A\n",
    "\n",
    "print(\"The energy per nucleon for a nucleus with A=58 and Z=26 is\", energypernucleon(26,58), \"MeV\")"
   ]
  },
  {
   "cell_type": "markdown",
   "id": "5f5d0051",
   "metadata": {},
   "source": [
    "#### (b) Write a loop over values for $A$ that ranges $Z$ to $3Z$ to find the one that has the largest binding energy per nucleon. \n",
    "This is the most stable nucleus with the given atomic number. Have your program print out the value of $A$ for this most stable nucleus and the value of the binding energy per nucleon. Include the output for $Z$=26 (iron). (The most stable iron nucleus should have $A$=58)\n",
    "\n",
    "To do this, initialize a variable called ```maxBpN``` by setting it equal to zero outside of the loop. Then, when looping over the values for A (using the ```range()``` function), call the function ```energypernucleon()``` that we defined earlier. Finally, use an ```if``` statement to see if the energy returned is greater than ```maxBpN```. If it is, redefine ```maxBpN``` and record the corresponding $A$ in a new variable. As you loop through $A$ values, the ```maxBpN``` will continue to be redefined until you find the max $\\frac{B}{A}$."
   ]
  },
  {
   "cell_type": "code",
   "execution_count": 10,
   "id": "6313ca8d",
   "metadata": {},
   "outputs": [
    {
     "name": "stdout",
     "output_type": "stream",
     "text": [
      "The max binding energy per nucleon for a nucleus with Z=26 is 8.701432576808985 where A=58\n"
     ]
    }
   ],
   "source": [
    "Z = 26\n",
    "\n",
    "maxBpN = 0              # initialize maximum binding energy per nucleon for given Z\n",
    "\n",
    "# loop over A values\n",
    "for A in range(Z, 3*Z+1):\n",
    "    \n",
    "    BpN = energypernucleon(Z,A)           # binding energy per nucleon\n",
    "\n",
    "    # determine if B/A is the largest for given value of Z\n",
    "    if BpN > maxBpN:\n",
    "        maxBpN = BpN    # maximum B/A value for given Z\n",
    "        maxA = A        # atomic number with maximum B/A value\n",
    "        \n",
    "print(\"The max binding energy per nucleon for a nucleus with Z=26 is\", maxBpN, \"where A=\"+str(maxA))"
   ]
  },
  {
   "cell_type": "markdown",
   "id": "1fe50297",
   "metadata": {},
   "source": [
    "#### (c) Modify your program again so that, instead of taking $Z$ as input, it runs through all values of $Z$ from 1 to 100 and prints out the most stable value of 𝐴 for each one. \n",
    "First initialize the lists ```A_list``` and ```energy_list``` and by setting them equal to an empty list ```[]```. You'll store the values for $A$ and the energy per nucleon here. Then, loop over $Z$ (using the ```range()``` function) and copy over the code for looping over $A$ in the previous part. Finally, append the max $\\frac{B}{A}$ and $A$ for each $Z$ to the lists initialized earlier."
   ]
  },
  {
   "cell_type": "code",
   "execution_count": 11,
   "id": "ae468e5f",
   "metadata": {},
   "outputs": [],
   "source": [
    "# initialize lists\n",
    "A_list = []\n",
    "energy_list = []\n",
    "\n",
    "# loop over Z values\n",
    "for Z in range(1, 101):\n",
    "    \n",
    "    maxBpN = 0              # initialize maximum binding energy per nucleon for given Z\n",
    "    \n",
    "    # loop over A values\n",
    "    for A in range(Z, 3*Z+1):\n",
    "    \n",
    "        BpN = energypernucleon(Z,A)           # binding energy per nucleon\n",
    "\n",
    "        # determine if B/A is the largest for given value of Z\n",
    "        if BpN > maxBpN:\n",
    "            maxBpN = BpN    # maximum B/A value for given Z\n",
    "            maxA = A        # atomic number with maximum B/A value\n",
    "    \n",
    "    # append max values to lists\n",
    "    energy_list.append(maxBpN)\n",
    "    A_list.append(maxA)"
   ]
  },
  {
   "cell_type": "markdown",
   "id": "faf58bbb",
   "metadata": {},
   "source": [
    "#### (d) Make a graph of the binding energy per nucleon (for the most stable nucleus) vs. the mass number $A$. \n",
    "\n",
    "Label the x-axis ```\"Mass Number A\"```, the y-axis ```\"Binding Energy per Nucleon (MeV)\"```. Take a look at the [Matplotlib Documentation](https://matplotlib.org/stable/api/_as_gen/matplotlib.pyplot.plot.html) for help formatting your plot."
   ]
  },
  {
   "cell_type": "code",
   "execution_count": 12,
   "id": "d56ed865",
   "metadata": {},
   "outputs": [
    {
     "data": {
      "image/png": "[encoded data removed]",
      "text/plain": [
       "<Figure size 432x288 with 1 Axes>"
      ]
     },
     "metadata": {
      "needs_background": "light"
     },
     "output_type": "display_data"
    }
   ],
   "source": [
    "plt.plot(A_list, energy_list, \"gs\")\n",
    "plt.xlabel(\"Mass Number A\")\n",
    "plt.ylabel(\"Binding Energy per Nucleon (MeV)\")\n",
    "plt.show()"
   ]
  },
  {
   "cell_type": "markdown",
   "id": "748a7d44",
   "metadata": {},
   "source": [
    "### Example 2: Analyzing Data from the LHC\n",
    "If you are a physicist working at the Large Hadron Collider, a good chunk of your job is plotting and looking at data. A lot of data from the LHC is actually published online, so lets take a crack at it ourselves! If you follow this [link](https://drive.google.com/drive/folders/1rAgPmVG4PJZR7_2bkjd5i9JrtheRz7xg), you’ll see a file called ```Zee.npy```. In that file is stored (as a numpy array) data from the LHC corresponding to the measured mass of a $Z$ boson as it decays to an electron and a positron. Download the file into your computer, then go to the folder where your Jupyter notebook lives and upload the file there.\n",
    "\n",
    "#### (a) Plot the data in ```Zee.npy``` as a histogram\n",
    "\n",
    "First, you'll need to open the ```.npy``` file using the function ```np.load()``` function. The data is in the form a bunch of different measurements of the $Z$’s mass in GeV. To visualize the distribution of the $Z$ mass, we'll want to plot a histogram which tells us the values that this variable takes and how often that value appears. For a reference on how to make a histogram, look at the [matplotlib documentation](https://matplotlib.org/stable/api/_as_gen/matplotlib.pyplot.hist.html#matplotlib.pyplot.hist).\n",
    "\n",
    "Plot the $Z$ mass for 30 bins between 40 and 140 GeV using ```np.linspace()```, label the x-axis ```\"Z Mass [GeV]\"```, the y-axis ```\"Events\"``` and title it ```\"Mass of Z Boson from Z->ee Decay Channel\"```. "
   ]
  },
  {
   "cell_type": "code",
   "execution_count": 13,
   "id": "b5d4b9d6",
   "metadata": {},
   "outputs": [
    {
     "data": {
      "image/png": "[encoded data removed]",
      "text/plain": [
       "<Figure size 432x288 with 1 Axes>"
      ]
     },
     "metadata": {
      "needs_background": "light"
     },
     "output_type": "display_data"
    }
   ],
   "source": [
    "data = np.load(\"Zee.npy\")\n",
    "\n",
    "bins = np.linspace(40, 140, 30)\n",
    "\n",
    "plt.hist(data, bins, color=\"orange\")\n",
    "plt.xlabel(\"Z Mass [GeV]\")\n",
    "plt.ylabel(\"Events\")\n",
    "plt.title(\"Mass of Z Boson from Z->ee Decay Channel\")\n",
    "plt.show()"
   ]
  },
  {
   "cell_type": "markdown",
   "id": "41e9a75c",
   "metadata": {},
   "source": [
    "Look up the mass of the $Z$, does the data agree?\n",
    "\n",
    "\n",
    "Great! Now that you've gotten a solid background in the basics of python, written your own programs to simulate some physics, and learned how to use numpy and matplotlib to analyze some real data, you have some tools to help tackle the problems thrown at you in your future classes and research!"
   ]
  }
 ],
 "metadata": {
  "kernelspec": {
   "display_name": "Python 3 (ipykernel)",
   "language": "python",
   "name": "python3"
  },
  "language_info": {
   "codemirror_mode": {
    "name": "ipython",
    "version": 3
   },
   "file_extension": ".py",
   "mimetype": "text/x-python",
   "name": "python",
   "nbconvert_exporter": "python",
   "pygments_lexer": "ipython3",
   "version": "3.9.12"
  }
 },
 "nbformat": 4,
 "nbformat_minor": 5
}
